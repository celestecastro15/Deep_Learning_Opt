{
  "nbformat": 4,
  "nbformat_minor": 0,
  "metadata": {
    "colab": {
      "name": "Tutorial_Numpy.ipynb",
      "provenance": [],
      "collapsed_sections": [],
      "include_colab_link": true
    },
    "kernelspec": {
      "name": "python3",
      "display_name": "Python 3"
    }
  },
  "cells": [
    {
      "cell_type": "markdown",
      "metadata": {
        "id": "view-in-github",
        "colab_type": "text"
      },
      "source": [
        "<a href=\"https://colab.research.google.com/github/celestecastro15/Deep_Learning_Opt/blob/main/Tutorial_Numpy.ipynb\" target=\"_parent\"><img src=\"https://colab.research.google.com/assets/colab-badge.svg\" alt=\"Open In Colab\"/></a>"
      ]
    },
    {
      "cell_type": "markdown",
      "metadata": {
        "id": "7y4zCwlrpjey"
      },
      "source": [
        "<img src = \"https://drive.google.com/uc?id=17atj9OubRtxp1m0gVTwAGORykjvdxWA0\" align = \"center\" >"
      ]
    },
    {
      "cell_type": "markdown",
      "metadata": {
        "id": "HLGXEww0poe5"
      },
      "source": [
        "<font color = 'BlackCyan' size = 8>\n",
        "Tutorial Numpy"
      ]
    },
    {
      "cell_type": "markdown",
      "metadata": {
        "id": "AmUIJ_6sprNI"
      },
      "source": [
        "<font size=4>\n",
        "En este Notebook se aborda el uso de la paquetería Numpy y su aplicación en diversas áreas."
      ]
    },
    {
      "cell_type": "markdown",
      "metadata": {
        "id": "ez4J-jmSpt_n"
      },
      "source": [
        "<font size = 5, color = \"blue\">\n",
        "1.- ¿Por qué Numpy?"
      ]
    },
    {
      "cell_type": "markdown",
      "metadata": {
        "id": "V2_gud2jpw1Q"
      },
      "source": [
        "<font size=4>\n",
        "Numpy es una biblioteca que se ha vuelto esencial para el cómputo científico al utilizar el lenguaje de programación Python.\n",
        "Destaca como una de las bibliotecas más recurrentes y útilies debido a que permite realizar operaciones con mayor sencillez y eficiencia."
      ]
    },
    {
      "cell_type": "markdown",
      "metadata": {
        "id": "QfrWlNdHp0Vr"
      },
      "source": [
        "## <font size=4> Cualquier cosa que quieras saber de esta biblioteca en el futuro lo puedes encontrar [aquí](https://numpy.org/doc/stable/)\n"
      ]
    },
    {
      "cell_type": "markdown",
      "metadata": {
        "id": "1HjXn5DGp6cM"
      },
      "source": [
        "<font size = 5, color = \"blue\">\n",
        "2.- Ventajas de utilizar Numpy"
      ]
    },
    {
      "cell_type": "markdown",
      "metadata": {
        "id": "zWLLB-UMp9Sg"
      },
      "source": [
        "<font size = 4>\n",
        "\n",
        "Comparemos la biblioteca **math** y **numpy** al definir la función Sigmoide, la cual es una función muy utilizada en Deep Learning. En particular observemos la forma en que operan **math.exp()** y **np.exp()**:"
      ]
    },
    {
      "cell_type": "markdown",
      "metadata": {
        "id": "GTvMI4-GqAIk"
      },
      "source": [
        "<font size = 4>\n",
        "Recordando que: \n",
        "$sigmoid(x) = \\frac{1}{1+e^{-x}}$ "
      ]
    },
    {
      "cell_type": "markdown",
      "metadata": {
        "id": "xETnuUZ6peZj"
      },
      "source": [
        "<img src = \"https://drive.google.com/uc?id=1NdvUhSr_AGYmQ1XByZUcfq87d36wvKi_\" align = \"center\" >"
      ]
    },
    {
      "cell_type": "code",
      "metadata": {
        "id": "00EAOp85pXVv"
      },
      "source": [
        "#Definimos la función utilizando la biblioteca math:\n",
        "\n",
        "import math\n",
        "\n",
        "def sigmoide_math(x):\n",
        "    '''\n",
        "    Input: elemento del tipo int o float\n",
        "    output: elemento del tipo int o float\n",
        "    '''\n",
        "    return 1/(1 + math.exp(-x))"
      ],
      "execution_count": null,
      "outputs": []
    },
    {
      "cell_type": "markdown",
      "metadata": {
        "id": "8E0JjY0aqpM8"
      },
      "source": [
        "<font size = 4>\n",
        "\n",
        "Las entradas de la función sigmoide suelen ser vectores, en este caso probaremos con enteros, flotantes y vectores:"
      ]
    },
    {
      "cell_type": "code",
      "metadata": {
        "colab": {
          "base_uri": "https://localhost:8080/"
        },
        "id": "z6DZG4NypeK3",
        "outputId": "f1436196-07ca-48fa-cfd9-6ed6c49a360a"
      },
      "source": [
        "#Calculamos el valor de sigmoide para x = 1 como entero y flotante:\n",
        "\n",
        "x = 1 #int(1)\n",
        "y = 1. #float(1)\n",
        "\n",
        "print(\"x es del tipo {} y sigmoide(x) tiene el valor {:.5f}\\n y es del tipo {} y sigmoide(y) tiene el valor {:.5f}.\"\\\n",
        "      .format(type(x), sigmoide_math(x), type(y), sigmoide_math(y)) )\n",
        "\n",
        "#5f se refiere a 5 cifras decimales\n",
        "#print(\"database es una {} con {} elements and shape {}.\".format(type(database), len(database), database.shape))"
      ],
      "execution_count": null,
      "outputs": [
        {
          "output_type": "stream",
          "text": [
            "x es del tipo <class 'int'> y sigmoide(x) tiene el valor 0.73106\n",
            " y es del tipo <class 'float'> y sigmoide(y) tiene el valor 0.73106.\n"
          ],
          "name": "stdout"
        }
      ]
    },
    {
      "cell_type": "markdown",
      "metadata": {
        "id": "HCMF8DMxrYHf"
      },
      "source": [
        "<font size = 4>\n",
        "    \n",
        "Observamos que no hay diferencia."
      ]
    },
    {
      "cell_type": "markdown",
      "metadata": {
        "id": "PRUSHPlMra_Q"
      },
      "source": [
        "<font size = 4>\n",
        "    \n",
        "Ahora bien, si intentamos calcular el valor de **sigmoide_math()** de X = np.array([1,2,3]), obtenemos:"
      ]
    },
    {
      "cell_type": "code",
      "metadata": {
        "id": "Q4WS7rEXpfBi"
      },
      "source": [
        "#Importamos Numpy\n",
        "\n",
        "import numpy as np # pip install numpy "
      ],
      "execution_count": null,
      "outputs": []
    },
    {
      "cell_type": "code",
      "metadata": {
        "colab": {
          "base_uri": "https://localhost:8080/"
        },
        "id": "BFon_6YWpkBn",
        "outputId": "f037b3a3-357c-4b23-e55b-2f74d4d29ea7"
      },
      "source": [
        "X = np.array([1,2,3]) #X como vector\n",
        "print(type(X))\n",
        "X"
      ],
      "execution_count": null,
      "outputs": [
        {
          "output_type": "stream",
          "text": [
            "<class 'numpy.ndarray'>\n"
          ],
          "name": "stdout"
        },
        {
          "output_type": "execute_result",
          "data": {
            "text/plain": [
              "array([1, 2, 3])"
            ]
          },
          "metadata": {
            "tags": []
          },
          "execution_count": 4
        }
      ]
    },
    {
      "cell_type": "code",
      "metadata": {
        "id": "LsVT_pbtr89N",
        "colab": {
          "base_uri": "https://localhost:8080/",
          "height": 262
        },
        "outputId": "466ae4f4-1338-4fa2-b716-efa16c888d12"
      },
      "source": [
        "# Ejecuto la función sigmoide_math con el arreglo X\n",
        "sigmoide_math(X)  "
      ],
      "execution_count": null,
      "outputs": [
        {
          "output_type": "error",
          "ename": "TypeError",
          "evalue": "ignored",
          "traceback": [
            "\u001b[0;31m---------------------------------------------------------------------------\u001b[0m",
            "\u001b[0;31mTypeError\u001b[0m                                 Traceback (most recent call last)",
            "\u001b[0;32m<ipython-input-5-6b2ecadffbd1>\u001b[0m in \u001b[0;36m<module>\u001b[0;34m()\u001b[0m\n\u001b[1;32m      1\u001b[0m \u001b[0;31m# Ejecuto la función sigmoide_math con el arreglo X\u001b[0m\u001b[0;34m\u001b[0m\u001b[0;34m\u001b[0m\u001b[0;34m\u001b[0m\u001b[0m\n\u001b[0;32m----> 2\u001b[0;31m \u001b[0msigmoide_math\u001b[0m\u001b[0;34m(\u001b[0m\u001b[0mX\u001b[0m\u001b[0;34m)\u001b[0m\u001b[0;34m\u001b[0m\u001b[0;34m\u001b[0m\u001b[0m\n\u001b[0m",
            "\u001b[0;32m<ipython-input-1-5490dbfdc055>\u001b[0m in \u001b[0;36msigmoide_math\u001b[0;34m(x)\u001b[0m\n\u001b[1;32m      8\u001b[0m     \u001b[0moutput\u001b[0m\u001b[0;34m:\u001b[0m \u001b[0melemento\u001b[0m \u001b[0;32mdel\u001b[0m \u001b[0mtipo\u001b[0m \u001b[0mint\u001b[0m \u001b[0mo\u001b[0m \u001b[0mfloat\u001b[0m\u001b[0;34m\u001b[0m\u001b[0;34m\u001b[0m\u001b[0m\n\u001b[1;32m      9\u001b[0m     '''\n\u001b[0;32m---> 10\u001b[0;31m     \u001b[0;32mreturn\u001b[0m \u001b[0;36m1\u001b[0m\u001b[0;34m/\u001b[0m\u001b[0;34m(\u001b[0m\u001b[0;36m1\u001b[0m \u001b[0;34m+\u001b[0m \u001b[0mmath\u001b[0m\u001b[0;34m.\u001b[0m\u001b[0mexp\u001b[0m\u001b[0;34m(\u001b[0m\u001b[0;34m-\u001b[0m\u001b[0mx\u001b[0m\u001b[0;34m)\u001b[0m\u001b[0;34m)\u001b[0m\u001b[0;34m\u001b[0m\u001b[0;34m\u001b[0m\u001b[0m\n\u001b[0m",
            "\u001b[0;31mTypeError\u001b[0m: only size-1 arrays can be converted to Python scalars"
          ]
        }
      ]
    },
    {
      "cell_type": "markdown",
      "metadata": {
        "id": "yErtEFtOspVo"
      },
      "source": [
        "<font size = 4>\n",
        "\n",
        "Este error se debe a que **math** funciona con variables del tipo entero y flotante.\n",
        "\n",
        "Probemos utilizando **np.exp()** para los tres tipos de variable: entero, flotante, vector(arreglo):"
      ]
    },
    {
      "cell_type": "code",
      "metadata": {
        "id": "nse5i8IDstDP"
      },
      "source": [
        "np.exp?"
      ],
      "execution_count": null,
      "outputs": []
    },
    {
      "cell_type": "code",
      "metadata": {
        "id": "tQJLfFEgsPZ5"
      },
      "source": [
        "#Definimos la función sigmoid utilizando Numpy:\n",
        "\n",
        "def sigmoid_np(x):\n",
        "    \"\"\"\n",
        "    Input: Vector X del tipo arreglo de numpy\n",
        "    Output: Arreglo de numpy\n",
        "    \"\"\"\n",
        "    return 1/(1 + np.exp(-x))"
      ],
      "execution_count": null,
      "outputs": []
    },
    {
      "cell_type": "code",
      "metadata": {
        "colab": {
          "base_uri": "https://localhost:8080/"
        },
        "id": "s7Uk0TV8s3Ks",
        "outputId": "ff5b7286-c44e-48e1-e310-950cecce3b37"
      },
      "source": [
        "#Evaluamos con x, y, X:\n",
        "\n",
        "print(\"'x' es del tipo {} y sigmoide(x) tiene el valor {:.5f}. \\n\\n 'y' es del tipo {} y sigmoide(y) tiene el valor {:.5f}. \\n\\n 'X' es del tipo {} y sigmoid de X tiene el valor de {}.\" \\\n",
        "      .format(type(x), sigmoid_np(x),type(y), sigmoid_np(y), type(X), sigmoid_np(X)))"
      ],
      "execution_count": null,
      "outputs": [
        {
          "output_type": "stream",
          "text": [
            "'x' es del tipo <class 'int'> y sigmoide(x) tiene el valor 0.73106. \n",
            "\n",
            " 'y' es del tipo <class 'float'> y sigmoide(y) tiene el valor 0.73106. \n",
            "\n",
            " 'X' es del tipo <class 'numpy.ndarray'> y sigmoid de X tiene el valor de [0.73105858 0.88079708 0.95257413].\n"
          ],
          "name": "stdout"
        }
      ]
    },
    {
      "cell_type": "markdown",
      "metadata": {
        "id": "XRknjCkhuTNu"
      },
      "source": [
        "<font size = 4>\n",
        "\n",
        "Lo que ocurre es que **Numpy** calcula la exponencial de cada una de las entradas del vector 'X' y regresa np.exp(X) como un vector de la misma forma que 'X'.\n",
        "    \n",
        "<font color = \"red\">    \n",
        "\n",
        "$$ \\text{For } x \\in \\mathbb{R}^n \\text{,     } sigmoid(x) = sigmoid\\begin{pmatrix}\n",
        "    x_1  \\\\\n",
        "    x_2  \\\\\n",
        "    ...  \\\\\n",
        "    x_n  \\\\\n",
        "\\end{pmatrix} = \\begin{pmatrix}\n",
        "    \\frac{1}{1+e^{-x_1}}  \\\\\n",
        "    \\frac{1}{1+e^{-x_2}}  \\\\\n",
        "    ...  \\\\\n",
        "    \\frac{1}{1+e^{-x_n}}  \\\\\n",
        "\\end{pmatrix}\\tag{1} $$"
      ]
    },
    {
      "cell_type": "markdown",
      "metadata": {
        "id": "6ZhP98RGw9S5"
      },
      "source": [
        "<font size = 5, color = \"blue\">\n",
        "3.- Gradiente de la Función Sigmoide"
      ]
    },
    {
      "cell_type": "markdown",
      "metadata": {
        "id": "N57fdnlXxAPx"
      },
      "source": [
        "<font size = 4>\n",
        "\n",
        "Como se verá más adelante, para optimizar una función de pérdida se requiere calcular el gradiente de funciones al hacer retropropagación (Gradient Descent). En este sentido, calculemos el **gradiente** de la función **sigmoide** el cual se determina mediante la ecuación (recordando que  $sigmoid(x) = \\frac{1}{1+e^{-x}}$ )\n",
        "\n",
        " $$ sigmoid\\_gradient (x) = \\sigma '(x) = \\sigma (x) (1 - \\sigma (x)) \\tag {2} $$\n",
        "    \n",
        "Puedes comprobar que la ecuación es correcta diferenciando respecto a la variable de la función."
      ]
    },
    {
      "cell_type": "code",
      "metadata": {
        "id": "TOFAASjbs-QZ"
      },
      "source": [
        "# EJERCICIO \n",
        "\n",
        "# Implementa la función sigmoid_gradient(x) \n",
        "\n",
        "#sigmoid(x)=sigma(x)\n",
        "\n",
        "def sigmoid_gradient(x):\n",
        "    \"\"\"\n",
        "    Input: x, un entero, flotante o arreglo de numpy.\n",
        "    output: gradiente de sigmoid(x), flotante.\n",
        "    \"\"\"\n",
        "    sig_grad = np.exp(-x)/ ((1 + np.exp(-x))**2) \n",
        "    #sig_grad = sigmoid_np(x)*(1-sigmoid_np(x))\n",
        "\n",
        "    \n",
        "    \n",
        "    return sig_grad"
      ],
      "execution_count": null,
      "outputs": []
    },
    {
      "cell_type": "code",
      "metadata": {
        "colab": {
          "base_uri": "https://localhost:8080/"
        },
        "id": "LAD6AGP9tJSd",
        "outputId": "3e9027a3-bdfb-4f79-cf4e-d369bb77682e"
      },
      "source": [
        "#Probamos con el arreglo X definido previamente\n",
        "\n",
        "sigmoid_gradient(X)"
      ],
      "execution_count": null,
      "outputs": [
        {
          "output_type": "execute_result",
          "data": {
            "text/plain": [
              "array([0.19661193, 0.10499359, 0.04517666])"
            ]
          },
          "metadata": {
            "tags": []
          },
          "execution_count": 13
        }
      ]
    },
    {
      "cell_type": "markdown",
      "metadata": {
        "id": "acYFg1RvzOcu"
      },
      "source": [
        "<font size = 5, color = \"blue\">\n",
        "4.- Array Reshape"
      ]
    },
    {
      "cell_type": "markdown",
      "metadata": {
        "id": "ZuxYOVnozR4t"
      },
      "source": [
        "<font size = 4>\n",
        "\n",
        "Veamos el funcionamiento de dos atributos muy utilizados en el tratamiento de datos con Numpy: **np.shape()** y **np.reshape()**."
      ]
    },
    {
      "cell_type": "markdown",
      "metadata": {
        "id": "rm11-WD0zWSP"
      },
      "source": [
        "<font size = 4>\n",
        "\n",
        "1.- **np.shape()** se utiliza para saber las dimensiones de un arreglo de numpy. Esto se puede interpretar como las dimensiones de una matriz.\n",
        "    \n",
        "2.- **np.reshape()** se utiliza para cambiar las dimensiones del arreglo (matriz) de numpy."
      ]
    },
    {
      "cell_type": "markdown",
      "metadata": {
        "id": "WIOi4oS-zdxK"
      },
      "source": [
        "<font size = 4>\n",
        "\n",
        "Estas funciones son muy frecuentes al implementar redes neuronales convolucionales. Esto ya que se suele modelar a las imágenes como un arreglo de pixeles a los cuales les corresponde un valor entre 0 y 255 para cada uno de los colores rojo, verde y azul (RGB). Formando un arreglo de 3 dimensiones ($largo$, $ancho$, $profundo$).\n",
        "\n",
        "(*Los colores están definidos como una tupla (x,y,z) en el código RGB, donde la primera entrada es el rojo, etc.)*"
      ]
    },
    {
      "cell_type": "markdown",
      "metadata": {
        "id": "NQfASL3mztfp"
      },
      "source": [
        "<font size = 4>\n",
        "\n",
        "Este arreglo se reordena como un vector de 1 dimensión: ($largo$$*$$ancho$$*$$profundo$) al introducirlo al modelo de la red neuronal. En inglés a este vector se le denomina 'flatten'."
      ]
    },
    {
      "cell_type": "markdown",
      "metadata": {
        "id": "DaObWAaqz1Mc"
      },
      "source": [
        "<img src = \"https://drive.google.com/uc?id=1chF7upglVNOFlR5x7jNEt4nkSWdb5jAc\" align = \"center\" >"
      ]
    },
    {
      "cell_type": "markdown",
      "metadata": {
        "id": "TAaLvMDo0IMb"
      },
      "source": [
        "<font size = 4>\n",
        "\n",
        "Implementemos la función **np.reshape** reordenando un arreglo de la forma (3,3,2) en un arreglo de la forma (18,1):"
      ]
    },
    {
      "cell_type": "code",
      "metadata": {
        "id": "VUQkxrMlzG_T"
      },
      "source": [
        "#Definimos la función Reshape:\n",
        "\n",
        "def image2vector(image):\n",
        "    \"\"\"\n",
        "    Input:\n",
        "    imagen -- arreglo de numpy de la forma (longitud, anchura, profundidad)\n",
        "    \n",
        "    Returns:\n",
        "    v -- vector de la forma (longitud*anchura*profundidad, 1)\n",
        "    \"\"\"\n",
        "    \n",
        "    v = image.reshape( (image.shape[0]*image.shape[1]*image.shape[2]), 1)\n",
        "    \n",
        "    return v"
      ],
      "execution_count": null,
      "outputs": []
    },
    {
      "cell_type": "markdown",
      "metadata": {
        "id": "Ltr_iOfl0WpW"
      },
      "source": [
        "<font size=3> Puedes aprender más del atributo **np.reshape()** en el siguiente [enlace](https://numpy.org/doc/stable/reference/generated/numpy.reshape.html)."
      ]
    },
    {
      "cell_type": "code",
      "metadata": {
        "colab": {
          "base_uri": "https://localhost:8080/"
        },
        "id": "WJSCYvTD0Ow8",
        "outputId": "4a7479f9-7996-48dd-dfad-c029100f63e7"
      },
      "source": [
        "#Definimos un arreglo de prueba y comprobamos:\n",
        "\n",
        "image = np.array([[[ 0.67826139,  0.29380381],\n",
        "        [ 0.90714982,  0.52835647],\n",
        "        [ 0.4215251 ,  0.45017551]],\n",
        "\n",
        "       [[ 0.92814219,  0.96677647],\n",
        "        [ 0.85304703,  0.52351845],\n",
        "        [ 0.19981397,  0.27417313]],\n",
        "\n",
        "       [[ 0.60659855,  0.00533165],\n",
        "        [ 0.10820313,  0.49978937],\n",
        "        [ 0.34144279,  0.94630077]]])\n",
        "\n",
        "image.shape"
      ],
      "execution_count": null,
      "outputs": [
        {
          "output_type": "execute_result",
          "data": {
            "text/plain": [
              "(3, 3, 2)"
            ]
          },
          "metadata": {
            "tags": []
          },
          "execution_count": 17
        }
      ]
    },
    {
      "cell_type": "code",
      "metadata": {
        "colab": {
          "base_uri": "https://localhost:8080/"
        },
        "id": "LRbbahdq0fUF",
        "outputId": "4ae11b9d-960f-44d7-f889-54f9c1a52047"
      },
      "source": [
        "image_flatten = image2vector(image)\n",
        "image_flatten.shape"
      ],
      "execution_count": null,
      "outputs": [
        {
          "output_type": "execute_result",
          "data": {
            "text/plain": [
              "(18, 1)"
            ]
          },
          "metadata": {
            "tags": []
          },
          "execution_count": 18
        }
      ]
    },
    {
      "cell_type": "code",
      "metadata": {
        "colab": {
          "base_uri": "https://localhost:8080/"
        },
        "id": "VoFytrHv1DJg",
        "outputId": "1782d9c9-dbe1-48d4-83d0-8e5d105c45b2"
      },
      "source": [
        "image_flatten"
      ],
      "execution_count": null,
      "outputs": [
        {
          "output_type": "execute_result",
          "data": {
            "text/plain": [
              "array([[0.67826139],\n",
              "       [0.29380381],\n",
              "       [0.90714982],\n",
              "       [0.52835647],\n",
              "       [0.4215251 ],\n",
              "       [0.45017551],\n",
              "       [0.92814219],\n",
              "       [0.96677647],\n",
              "       [0.85304703],\n",
              "       [0.52351845],\n",
              "       [0.19981397],\n",
              "       [0.27417313],\n",
              "       [0.60659855],\n",
              "       [0.00533165],\n",
              "       [0.10820313],\n",
              "       [0.49978937],\n",
              "       [0.34144279],\n",
              "       [0.94630077]])"
            ]
          },
          "metadata": {
            "tags": []
          },
          "execution_count": 19
        }
      ]
    },
    {
      "cell_type": "markdown",
      "metadata": {
        "id": "y_ocxbVf9rml"
      },
      "source": [
        "<font size = 5, color = \"blue\">\n",
        "5.- Broadcast y normalización"
      ]
    },
    {
      "cell_type": "markdown",
      "metadata": {
        "id": "EOxuFzEQ9u_r"
      },
      "source": [
        "<font size = 4>\n",
        "\n",
        "Un proceso fundamental en algoritmos de Deep learning es la normalización de los datos con lo que se entrenará una red neuronal.\n",
        "Por ejemplo, es posible normalizar una matriz o arreglo a partir de normalizar cada uno de sus renglones o filas.\n",
        "Esto es, dada la matriz $$x:\n",
        "\\begin{bmatrix}\n",
        "    0 & 3 & 4 \\\\\n",
        "    2 & 6 & 4 \\\\\n",
        "\\end{bmatrix}\\tag{1}$$ entonces $$\\| x\\| = \\begin{bmatrix}\n",
        "    5 \\\\\n",
        "    \\sqrt{56} \\\\\n",
        "\\end{bmatrix}\\tag{2} $$ y        $$ x\\_normalized = \\frac{x}{\\| x\\|} = \\begin{bmatrix}\n",
        "    0 & \\frac{3}{5} & \\frac{4}{5} \\\\\n",
        "    \\frac{2}{\\sqrt{56}} & \\frac{6}{\\sqrt{56}} & \\frac{4}{\\sqrt{56}} \\\\\n",
        "\\end{bmatrix}\\tag{3}$$\n",
        "\n"
      ]
    },
    {
      "cell_type": "markdown",
      "metadata": {
        "id": "oMNE_tMxBlgg"
      },
      "source": [
        "<font size = 4>\n",
        "\n",
        "Implementemos una función que nos permita llevar acabo la operación, haremos uso del atributo de numpy **np.linalg.norm(x)**."
      ]
    },
    {
      "cell_type": "code",
      "metadata": {
        "id": "oGunSvCY1GiM"
      },
      "source": [
        "#Función que normaliza cada renglón de un arreglo:\n",
        "\n",
        "def normalizeRows(x):\n",
        "  #las comillas son para documentar a la función\n",
        "    \"\"\"\n",
        "    Input:\n",
        "    x -- Un arreglo de numpy de la forma (n, m)\n",
        "    \n",
        "    Output:\n",
        "    x -- El arreglo x con cada uno de sus renglones normalizado.\n",
        "    \"\"\"\n",
        "    x_norm = np.linalg.norm(x, axis = 1, keepdims = True) \n",
        "    #axis=1 dice que se normaliza cada 1 renglon (por separado), si fuera 0 diría que se calcula la norma del primer elemento del renglon 1 y el primero del renglon 2,\n",
        "    #es decir, normaliza por columnas\n",
        "    # es decir, como si se normalizara el sig vector: [[1,1],[2,1],[3,1],...]\n",
        "    #keepdims=True dice que los renglones que fueron normalizados se dejaran de dim 1\n",
        "    #de ese modo se realiza correctamente el broadcasting (la dims corresponden)\n",
        "    \n",
        "    \n",
        "    # Broadcast (actualizacion de la variable en funcion de su valor anterior)\n",
        "    x = x / x_norm\n",
        "\n",
        "    return x"
      ],
      "execution_count": null,
      "outputs": []
    },
    {
      "cell_type": "code",
      "metadata": {
        "id": "p_b7GvUJgk4q"
      },
      "source": [
        "normalizeRows?"
      ],
      "execution_count": null,
      "outputs": []
    },
    {
      "cell_type": "code",
      "metadata": {
        "id": "1H_awYIm_qxo"
      },
      "source": [
        "#Probamos la función:\n",
        "\n",
        "x = np.array([\n",
        "    [0, 3, 4],\n",
        "    [1, 6, 4]])"
      ],
      "execution_count": null,
      "outputs": []
    },
    {
      "cell_type": "code",
      "metadata": {
        "colab": {
          "base_uri": "https://localhost:8080/"
        },
        "id": "ArdYOTwzCQLP",
        "outputId": "4dd7006a-2c1c-4464-aabb-7838d742af2f"
      },
      "source": [
        "x_normalizada = normalizeRows(x)\n",
        "x_normalizada"
      ],
      "execution_count": null,
      "outputs": [
        {
          "output_type": "execute_result",
          "data": {
            "text/plain": [
              "array([[0.        , 0.6       , 0.8       ],\n",
              "       [0.13736056, 0.82416338, 0.54944226]])"
            ]
          },
          "metadata": {
            "tags": []
          },
          "execution_count": 49
        }
      ]
    },
    {
      "cell_type": "markdown",
      "metadata": {
        "id": "UjCdt4UlCc3Z"
      },
      "source": [
        "<font size = 4>\n",
        "\n",
        "Observemos con detenimento la operación $x/x_{norm}$.\n",
        "\n",
        "Cada uno de estos arreglos tiene las siguientes dimensiones."
      ]
    },
    {
      "cell_type": "code",
      "metadata": {
        "id": "dD_lGcxGCWwG"
      },
      "source": [
        "#Definimos x_norm:\n",
        "x_norm = np.linalg.norm(x, axis = 1, keepdims = True)\n",
        "\n",
        "#Definimos x/x_norm\n",
        "x_rowunit = x/x_norm"
      ],
      "execution_count": null,
      "outputs": []
    },
    {
      "cell_type": "code",
      "metadata": {
        "colab": {
          "base_uri": "https://localhost:8080/"
        },
        "id": "nOY1PPTsCgIZ",
        "outputId": "fea3771c-d00f-477d-a7c3-e48748f8057b"
      },
      "source": [
        "print(\"El arreglo x tiene dimensión {}, mientras que el arreglo x_norm tiene dimensión {}.\\n\\nPero el arreglo x/x_norm tiene dimensiones {}. Es decir las mismas que x.\" \\\n",
        "      .format(x.shape,x_norm.shape, x_rowunit.shape)) "
      ],
      "execution_count": null,
      "outputs": [
        {
          "output_type": "stream",
          "text": [
            "El arreglo x tiene dimensión (2, 3), mientras que el arreglo x_norm tiene dimensión (2, 1).\n",
            "\n",
            "Pero el arreglo x/x_norm tiene dimensiones (2, 3). Es decir las mismas que x.\n"
          ],
          "name": "stdout"
        }
      ]
    },
    {
      "cell_type": "markdown",
      "metadata": {
        "id": "ji08vzZSC8Li"
      },
      "source": [
        "matriz $\\qquad$ $\\pm$ $\\qquad$  (1, n) $\\qquad$  -> $\\qquad$  (m, n)\n",
        "\n",
        "(m, n) $\\qquad$  $\\frac{*}{÷}$ $\\qquad$  (m, 1) $\\qquad$  -> $\\qquad$  (m, n)"
      ]
    },
    {
      "cell_type": "markdown",
      "metadata": {
        "id": "8n4pR71zEGh8"
      },
      "source": [
        "##  Sugerencia: No usar estructuras de dato donde la forma sea (n, ) ~ matriz de rango 1. \n",
        "\n",
        "**Una estructura de rango 1 no se comporta ni como vector fila ni como vector columna** \n",
        "\n",
        "En su lugar (n ,1) o (1, n) según se necesite. Esto para evitar Broadcasting mal ejecutados!!! "
      ]
    },
    {
      "cell_type": "code",
      "metadata": {
        "colab": {
          "base_uri": "https://localhost:8080/"
        },
        "id": "t1OFycMMCi6J",
        "outputId": "f759b567-99b1-4d2a-b960-ca9599c9253d"
      },
      "source": [
        "f = np.array([1, 2, 3, 4])\n",
        "print(f.shape)\n",
        "print(f)"
      ],
      "execution_count": null,
      "outputs": [
        {
          "output_type": "stream",
          "text": [
            "(4,)\n",
            "[1 2 3 4]\n"
          ],
          "name": "stdout"
        }
      ]
    },
    {
      "cell_type": "code",
      "metadata": {
        "colab": {
          "base_uri": "https://localhost:8080/"
        },
        "id": "o3msrLlFGHG2",
        "outputId": "95a2d5b3-0af6-440f-a9c2-33d7985f06ff"
      },
      "source": [
        "f_buena = f[:, np.newaxis]\n",
        "print(f_buena.shape)\n",
        "print(f_buena)\n"
      ],
      "execution_count": null,
      "outputs": [
        {
          "output_type": "stream",
          "text": [
            "(4, 1)\n",
            "[[1]\n",
            " [2]\n",
            " [3]\n",
            " [4]]\n"
          ],
          "name": "stdout"
        }
      ]
    },
    {
      "cell_type": "code",
      "metadata": {
        "colab": {
          "base_uri": "https://localhost:8080/"
        },
        "id": "nqTYYizwO-xV",
        "outputId": "da8b7d12-4ed4-4307-bcc2-ff6a3fd15d2a"
      },
      "source": [
        "f_2buena=f[np.newaxis,:]\n",
        "print(f_2buena.shape)\n",
        "print(f_2buena)"
      ],
      "execution_count": null,
      "outputs": [
        {
          "output_type": "stream",
          "text": [
            "(1, 4)\n",
            "[[1 2 3 4]]\n"
          ],
          "name": "stdout"
        }
      ]
    },
    {
      "cell_type": "markdown",
      "metadata": {
        "id": "HTp0AsLOQYY5"
      },
      "source": [
        "Ejemplo de una matriz de (2,3) + otra de (1,3):"
      ]
    },
    {
      "cell_type": "code",
      "metadata": {
        "colab": {
          "base_uri": "https://localhost:8080/"
        },
        "id": "KayHYtKqQAV5",
        "outputId": "6ae61043-1b7d-4dfb-802c-72ddfe69c37b"
      },
      "source": [
        "y = np.array([1, 2, 3])\n",
        "y_buena = y[np.newaxis,:]\n",
        "x+y_buena #se suma por renglones (la matriz de (1,3) suma cada entrada por separado de los renglones)"
      ],
      "execution_count": null,
      "outputs": [
        {
          "output_type": "execute_result",
          "data": {
            "text/plain": [
              "array([[1, 5, 7],\n",
              "       [2, 8, 7]])"
            ]
          },
          "metadata": {
            "tags": []
          },
          "execution_count": 58
        }
      ]
    },
    {
      "cell_type": "code",
      "metadata": {
        "colab": {
          "base_uri": "https://localhost:8080/"
        },
        "id": "j5wfc-jhGO4r",
        "outputId": "ecd96982-6b80-4b7f-beaf-a2a356a44349"
      },
      "source": [
        "#Definimos el vector x más la adición de un escalar:\n",
        "\n",
        "x_escalar = x + 5 #le suma 5 a cada entrada de la matriz\n",
        "\n",
        "print(\"El arreglo x tiene dimensión {}, mientras que el arreglo x_escalar tiene dimensión {}\".format(x.shape,x_escalar.shape)) "
      ],
      "execution_count": null,
      "outputs": [
        {
          "output_type": "stream",
          "text": [
            "El arreglo x tiene dimensión (2, 3), mientras que el arreglo x_escalar tiene dimensión (2, 3)\n"
          ],
          "name": "stdout"
        }
      ]
    },
    {
      "cell_type": "code",
      "metadata": {
        "colab": {
          "base_uri": "https://localhost:8080/"
        },
        "id": "dlDNonulQnDK",
        "outputId": "fbbe8f2d-25d9-4e91-d7de-bf6ac88f7ee4"
      },
      "source": [
        "x_escalar"
      ],
      "execution_count": null,
      "outputs": [
        {
          "output_type": "execute_result",
          "data": {
            "text/plain": [
              "array([[ 5,  8,  9],\n",
              "       [ 6, 11,  9]])"
            ]
          },
          "metadata": {
            "tags": []
          },
          "execution_count": 60
        }
      ]
    },
    {
      "cell_type": "markdown",
      "metadata": {
        "id": "3HGXJiIlIUwj"
      },
      "source": [
        "<font size = 4> Observemos quién es **x_escalar**\n",
        "\n",
        "## ¿Qué pueden argumentar? "
      ]
    },
    {
      "cell_type": "code",
      "metadata": {
        "colab": {
          "base_uri": "https://localhost:8080/"
        },
        "id": "s54CNpPTHMgI",
        "outputId": "3e6b2294-5de5-41a9-b532-dab6711f9505"
      },
      "source": [
        "print(x.shape)\n",
        "\n",
        "print(x)\n",
        "print(\"\\n\") #deja una línea de espacio \n",
        "\n",
        "print(x_escalar.shape)\n",
        "print(x_escalar)"
      ],
      "execution_count": null,
      "outputs": [
        {
          "output_type": "stream",
          "text": [
            "(2, 3)\n",
            "[[0 3 4]\n",
            " [1 6 4]]\n",
            "\n",
            "\n",
            "(2, 3)\n",
            "[[ 5  8  9]\n",
            " [ 6 11  9]]\n"
          ],
          "name": "stdout"
        }
      ]
    },
    {
      "cell_type": "code",
      "metadata": {
        "colab": {
          "base_uri": "https://localhost:8080/"
        },
        "id": "oFg6JsX4IjGr",
        "outputId": "ed3f80ae-a4e8-4aa2-dc37-76293f509537"
      },
      "source": [
        "x_s = np.array([5 , 5, 5])\n",
        "x_ss = x_s[np.newaxis, :]\n",
        "x_ss.shape"
      ],
      "execution_count": null,
      "outputs": [
        {
          "output_type": "execute_result",
          "data": {
            "text/plain": [
              "(1, 3)"
            ]
          },
          "metadata": {
            "tags": []
          },
          "execution_count": 64
        }
      ]
    },
    {
      "cell_type": "code",
      "metadata": {
        "colab": {
          "base_uri": "https://localhost:8080/"
        },
        "id": "XrfoXVf3Khap",
        "outputId": "11f5d90f-155a-489b-cb0e-7fa792caaa15"
      },
      "source": [
        "x + x_ss"
      ],
      "execution_count": null,
      "outputs": [
        {
          "output_type": "execute_result",
          "data": {
            "text/plain": [
              "array([[ 5,  8,  9],\n",
              "       [ 6, 11,  9]])"
            ]
          },
          "metadata": {
            "tags": []
          },
          "execution_count": 26
        }
      ]
    },
    {
      "cell_type": "markdown",
      "metadata": {
        "id": "E-x3bE_ILGfA"
      },
      "source": [
        "<font size=4> Puedes entender mejor el Broadcasting [aquí](https://numpy.org/doc/stable/user/basics.broadcasting.html)"
      ]
    },
    {
      "cell_type": "markdown",
      "metadata": {
        "id": "HnzAh5FZLNlV"
      },
      "source": [
        "<font size = 4>\n",
        "\n",
        "Como un ejercicio extra de broadcasting implementemos la función **Softmax**, esta se define como:\n",
        "    \n",
        "    \n",
        "- $ \\text{Sea } x \\in \\mathbb{R}^{1\\times n} \\text{,       } softmax(x) = softmax(\\begin{bmatrix}\n",
        "    x_1  &&\n",
        "    x_2 &&\n",
        "    ...  &&\n",
        "    x_n  \n",
        "\\end{bmatrix}) = \\begin{bmatrix}\n",
        "     \\frac{e^{x_1}}{\\sum_{j}e^{x_j}}  &&\n",
        "    \\frac{e^{x_2}}{\\sum_{j}e^{x_j}}  &&\n",
        "    ...  &&\n",
        "    \\frac{e^{x_n}}{\\sum_{j}e^{x_j}} \n",
        "\\end{bmatrix} $ \n",
        "\n",
        "- $\\text{Para un arreglo } x \\in \\mathbb{R}^{m \\times n} \\text{,  $x_{ij}$ asigna al elemento en el $i^{th}$ renglon y $j^{th}$ columna de $x$, entonces tenemos: }$  $$softmax(x) = softmax\\begin{bmatrix}\n",
        "    x_{11} & x_{12} & x_{13} & \\dots  & x_{1n} \\\\\n",
        "    x_{21} & x_{22} & x_{23} & \\dots  & x_{2n} \\\\\n",
        "    \\vdots & \\vdots & \\vdots & \\ddots & \\vdots \\\\\n",
        "    x_{m1} & x_{m2} & x_{m3} & \\dots  & x_{mn}\n",
        "\\end{bmatrix} = \\begin{bmatrix}\n",
        "    \\frac{e^{x_{11}}}{\\sum_{j}e^{x_{1j}}} & \\frac{e^{x_{12}}}{\\sum_{j}e^{x_{1j}}} & \\frac{e^{x_{13}}}{\\sum_{j}e^{x_{1j}}} & \\dots  & \\frac{e^{x_{1n}}}{\\sum_{j}e^{x_{1j}}} \\\\\n",
        "    \\frac{e^{x_{21}}}{\\sum_{j}e^{x_{2j}}} & \\frac{e^{x_{22}}}{\\sum_{j}e^{x_{2j}}} & \\frac{e^{x_{23}}}{\\sum_{j}e^{x_{2j}}} & \\dots  & \\frac{e^{x_{2n}}}{\\sum_{j}e^{x_{2j}}} \\\\\n",
        "    \\vdots & \\vdots & \\vdots & \\ddots & \\vdots \\\\\n",
        "    \\frac{e^{x_{m1}}}{\\sum_{j}e^{x_{mj}}} & \\frac{e^{x_{m2}}}{\\sum_{j}e^{x_{mj}}} & \\frac{e^{x_{m3}}}{\\sum_{j}e^{x_{mj}}} & \\dots  & \\frac{e^{x_{mn}}}{\\sum_{j}e^{x_{mj}}}\n",
        "\\end{bmatrix} = \\begin{pmatrix}\n",
        "    softmax\\text{(first row of x)}  \\\\\n",
        "    softmax\\text{(second row of x)} \\\\\n",
        "    ...  \\\\\n",
        "    softmax\\text{(last row of x)} \\\\\n",
        "\\end{pmatrix} $$"
      ]
    },
    {
      "cell_type": "code",
      "metadata": {
        "id": "F090ulNxKnSh"
      },
      "source": [
        "# EJERCICIO: Implementa la función softmax descrita previamente\n",
        "\n",
        "\n",
        "#Función Softmax:\n",
        "\n",
        "def softmax(x):\n",
        "\n",
        "    \"\"\"\n",
        "    Input:\n",
        "    x -- Un arreglo con dimensiones (n,m)\n",
        "\n",
        "    Output:\n",
        "    s -- Un arreglo igual a la función softmax de x con dimensiones (n,m)\n",
        "    \"\"\"\n",
        "    #Broadcast\n",
        "    arreglo=np.zeros(x.shape)\n",
        "    for i in range(x.shape[0]):\n",
        "      fila = np.exp(x[i])/np.sum(np.exp(x[i]))\n",
        "      arreglo+=fila\n",
        "\n",
        "      #exp_x=np.exp(x)\n",
        "      #x_sum=np.sum(exp_x,)\n",
        "    \n",
        "    return arreglo"
      ],
      "execution_count": null,
      "outputs": []
    },
    {
      "cell_type": "code",
      "metadata": {
        "colab": {
          "base_uri": "https://localhost:8080/"
        },
        "id": "BRsQgio3Bn8Y",
        "outputId": "a60b2607-3852-4bde-803b-e4350ed2f960"
      },
      "source": [
        "#Calculamos la función softmax de un arreglo:\n",
        "x = np.array([[9, 2, 5, 0, 0], [7, 5, 0, 0 ,0]])\n",
        "\n",
        "print(\"x es un arreglo de dimensiones {} y softmax(x) es un arreglo con dimensiones {}. \\n\\nPor su parte softmax(x) tiene los valores: \\n\\n{}\"\\\n",
        "     .format(x.shape, softmax(x).shape, softmax(x)))"
      ],
      "execution_count": null,
      "outputs": [
        {
          "output_type": "stream",
          "text": [
            "x es un arreglo de dimensiones (2, 5) y softmax(x) es un arreglo con dimensiones (2, 5). \n",
            "\n",
            "Por su parte softmax(x) tiene los valores: \n",
            "\n",
            "[[5.97828842e+02 1.28295793e+01 9.35915578e+00 1.45833333e-01\n",
            "  1.45833333e-01]\n",
            " [5.97828842e+02 1.28295793e+01 9.35915578e+00 1.45833333e-01\n",
            "  1.45833333e-01]]\n"
          ],
          "name": "stdout"
        }
      ]
    },
    {
      "cell_type": "code",
      "metadata": {
        "colab": {
          "base_uri": "https://localhost:8080/"
        },
        "id": "Pf36G_iNLZ_l",
        "outputId": "311eb028-dbce-4a22-d5fc-791a7b58c980"
      },
      "source": [
        "#Estos son los resultados que tendrían que salir, pero son incorrectos (si estaban bien, yo definí mal la función)\n",
        "\n",
        "x = np.array([[9, 2, 5, 0, 0], [7, 5, 0, 0 ,0]])\n",
        "\n",
        "print(\"x es un arreglo de dimensiones {} y softmax(x) es un arreglo con dimensiones {}. \\n\\nPor su parte softmax(x) tiene los valores: \\n\\n{}\"\\\n",
        "     .format(x.shape, softmax(x).shape, softmax(x)))"
      ],
      "execution_count": null,
      "outputs": [
        {
          "output_type": "stream",
          "text": [
            "x es un arreglo de dimensiones (2, 5) y softmax(x) es un arreglo con dimensiones (2, 5). \n",
            "\n",
            "Por su parte softmax(x) tiene los valores: \n",
            "\n",
            "[[9.80897665e-01 8.94462891e-04 1.79657674e-02 1.21052389e-04\n",
            "  1.21052389e-04]\n",
            " [8.78679856e-01 1.18916387e-01 8.01252314e-04 8.01252314e-04\n",
            "  8.01252314e-04]]\n"
          ],
          "name": "stdout"
        }
      ]
    },
    {
      "cell_type": "markdown",
      "metadata": {
        "id": "COZ054vVLr5L"
      },
      "source": [
        "<font size = 5, color = \"blue\">\n",
        "6.- Vectorización"
      ]
    },
    {
      "cell_type": "markdown",
      "metadata": {
        "id": "rP80SXSOL_45"
      },
      "source": [
        "<font size=4>\n",
        "    \n",
        "Como se ha mencionado, en deep learning se manejan conjuntos de datos muy grandes. De manera que una función no computacionalmente óptima puede convertirse en un gran cuello de botella en el algoritmo y puede dar como resultado un modelo que demore años en ejecutarse. Para asegurarse de que el código sea computacionalmente eficiente se utiliza la vectorización. "
      ]
    },
    {
      "cell_type": "code",
      "metadata": {
        "colab": {
          "base_uri": "https://localhost:8080/"
        },
        "id": "9oDpd5NULcpF",
        "outputId": "39703a23-6528-4d57-f588-ed1870faf318"
      },
      "source": [
        "import time  #Biblioteca utilizada para contar el tiempo de ejecución.\n",
        "\n",
        "x1 = [9, 2, 5, 0, 0, 7, 5, 0, 0, 0, 9, 2, 5, 0, 0]\n",
        "x2 = [9, 2, 2, 9, 0, 9, 2, 5, 0, 0, 9, 2, 5, 0, 0]\n",
        "\n",
        "\n",
        "\n",
        "#Implementación del producto punto clásico entre vectores\n",
        "\n",
        "tic = time.process_time()\n",
        "dot = 0\n",
        "for i in range(len(x1)):\n",
        "    dot += x1[i]*x2[i]\n",
        "toc = time.process_time()\n",
        "print (\"Producto punto = \" + str(dot) + \"\\n ----- Tiempo de cálculo = \" + str(1000*(toc - tic)) + \"ms\")\n"
      ],
      "execution_count": null,
      "outputs": [
        {
          "output_type": "stream",
          "text": [
            "Producto punto = 278\n",
            " ----- Tiempo de cálculo = 0.10490199999990679ms\n"
          ],
          "name": "stdout"
        }
      ]
    },
    {
      "cell_type": "markdown",
      "metadata": {
        "id": "xfrRc8sRMKOh"
      },
      "source": [
        "<font size=4>\n",
        "    \n",
        "Comparemos con las mismas operaciones utilizando la vectorización de Numpy:"
      ]
    },
    {
      "cell_type": "code",
      "metadata": {
        "colab": {
          "base_uri": "https://localhost:8080/"
        },
        "id": "8wysd0oPMGv_",
        "outputId": "4353af7e-f0ad-4640-d8ae-6326b858f2aa"
      },
      "source": [
        "x1 = [9, 2, 5, 0, 0, 7, 5, 0, 0, 0, 9, 2, 5, 0, 0]\n",
        "x2 = [9, 2, 2, 9, 0, 9, 2, 5, 0, 0, 9, 2, 5, 0, 0]\n",
        "\n",
        "#Producto punto entre vectores de numpy\n",
        "\n",
        "tic = time.process_time()\n",
        "dot = np.dot(x1,x2)\n",
        "toc = time.process_time()\n",
        "print (\"Producto punto = \" + str(dot) + \"\\n ----- Tiempo de cálculo = \" + str(1000*(toc - tic)) + \"ms\")"
      ],
      "execution_count": null,
      "outputs": [
        {
          "output_type": "stream",
          "text": [
            "Producto punto = 278\n",
            " ----- Tiempo de cálculo = 0.10812299999996ms\n"
          ],
          "name": "stdout"
        }
      ]
    },
    {
      "cell_type": "markdown",
      "metadata": {
        "id": "riJUggTAM_p7"
      },
      "source": [
        "VECTORIZACIÓN ~ técnicas que perminten \"quitar\"  bucles explícitos en el código "
      ]
    },
    {
      "cell_type": "code",
      "metadata": {
        "id": "SQ1hIvOOMOSa"
      },
      "source": [
        ""
      ],
      "execution_count": null,
      "outputs": []
    }
  ]
}