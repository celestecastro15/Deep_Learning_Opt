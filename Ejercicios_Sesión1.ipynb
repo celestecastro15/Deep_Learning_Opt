{
  "nbformat": 4,
  "nbformat_minor": 0,
  "metadata": {
    "colab": {
      "name": "Ejercicios_Sesión1.ipynb",
      "provenance": [],
      "collapsed_sections": [],
      "include_colab_link": true
    },
    "kernelspec": {
      "name": "python3",
      "display_name": "Python 3"
    }
  },
  "cells": [
    {
      "cell_type": "markdown",
      "metadata": {
        "id": "view-in-github",
        "colab_type": "text"
      },
      "source": [
        "<a href=\"https://colab.research.google.com/github/celestecastro15/Deep_Learning_Opt/blob/main/Ejercicios_Sesi%C3%B3n1.ipynb\" target=\"_parent\"><img src=\"https://colab.research.google.com/assets/colab-badge.svg\" alt=\"Open In Colab\"/></a>"
      ]
    },
    {
      "cell_type": "markdown",
      "metadata": {
        "id": "c0m7yt9HjJWA"
      },
      "source": [
        "1. Hacer un programa que sume los primeros 50 números pares sin usar fórmulas.\n",
        "\n",
        "Respuesta: 2450"
      ]
    },
    {
      "cell_type": "code",
      "metadata": {
        "id": "cJLmSz7kjgny",
        "colab": {
          "base_uri": "https://localhost:8080/"
        },
        "outputId": "aeef592a-a0a6-4632-cacb-b65415ac0b55"
      },
      "source": [
        "sumapares=0\n",
        "for i in range(50):\n",
        "  elemento = 2*i #numeros pares\n",
        "  sumapares+=elemento #va sumando un numero par en cada iteracion\n",
        "\n",
        "print(sumapares)"
      ],
      "execution_count": null,
      "outputs": [
        {
          "output_type": "stream",
          "text": [
            "2450\n"
          ],
          "name": "stdout"
        }
      ]
    },
    {
      "cell_type": "markdown",
      "metadata": {
        "id": "eI0oaA9qjKsd"
      },
      "source": [
        "2. Ordenar los elementos de una lista según el número de vocales que tiene cada palabra."
      ]
    },
    {
      "cell_type": "code",
      "metadata": {
        "id": "ea4adUyYjHCc"
      },
      "source": [
        "def ordena_lista(lista):\n",
        "  num_vocales=[]\n",
        "  for i in lista:\n",
        "    #cuenta el numero de veces que la palabra numero i tiene cada vocal\n",
        "    a=lista[i].count(\"a\")\n",
        "    e=lista[i].count(\"e\")\n",
        "    i=lista[i].count(\"i\")\n",
        "    o=lista[i].count(\"o\")\n",
        "    u=lista[i].count(\"u\")\n",
        "    vocales_tot=a+e+i+o+u #numero total de vocales que tiene la palabra\n",
        "\n",
        "    #va ir guardando el numero de vocales que tiene cada palabra en una lista\n",
        "    #En el primer elemento de dicha lista esta el num de vocales de la primera palabra, y así sucesivamente\n",
        "    num_vocales+=[vocales_tot] \n",
        "  "
      ],
      "execution_count": null,
      "outputs": []
    },
    {
      "cell_type": "markdown",
      "metadata": {
        "id": "uw4-e6JWjL4Q"
      },
      "source": [
        "3. Escriba una función que tome dos listas y devuelva True si tienen al menos un miembro común."
      ]
    },
    {
      "cell_type": "code",
      "metadata": {
        "id": "habrIrWYjHGd"
      },
      "source": [
        "def inter_listas(lista1,lista2):\n",
        "  #transformamos nuestras listas a conjuntos\n",
        "  c1=set(lista1)\n",
        "  c2=set(lista2)\n",
        "  interseccion=c1&c2 #interseccion de los conjuntos\n",
        "  if len(interseccion) !=0:\n",
        "    return(True)\n",
        "  else:\n",
        "    return(False)"
      ],
      "execution_count": null,
      "outputs": []
    },
    {
      "cell_type": "code",
      "metadata": {
        "colab": {
          "base_uri": "https://localhost:8080/"
        },
        "id": "f5vDILK7fGTy",
        "outputId": "0e456429-0d4a-4eaa-932e-a2b87baed12f"
      },
      "source": [
        "inter_listas([2,4,6],[3,8,5])"
      ],
      "execution_count": null,
      "outputs": [
        {
          "output_type": "execute_result",
          "data": {
            "text/plain": [
              "False"
            ]
          },
          "metadata": {
            "tags": []
          },
          "execution_count": 54
        }
      ]
    },
    {
      "cell_type": "code",
      "metadata": {
        "colab": {
          "base_uri": "https://localhost:8080/"
        },
        "id": "8ZONCOcYfsuc",
        "outputId": "31b7982d-a08a-42ac-8d09-d4a50a14ac5b"
      },
      "source": [
        "inter_listas([2,4,6],[3,4,5])"
      ],
      "execution_count": null,
      "outputs": [
        {
          "output_type": "execute_result",
          "data": {
            "text/plain": [
              "True"
            ]
          },
          "metadata": {
            "tags": []
          },
          "execution_count": 55
        }
      ]
    },
    {
      "cell_type": "markdown",
      "metadata": {
        "id": "AxZriEWxjMrb"
      },
      "source": [
        "4. Escriba un programa para obtener un string a partir de un string dado, donde todas las apariciones de su primer carácter se han cambiado a '\\$', excepto el primer carácter en sí.\n",
        "\n",
        "Sample String : 'restart'\n",
        "\n",
        "Expected Result : 'resta$t'"
      ]
    },
    {
      "cell_type": "code",
      "metadata": {
        "id": "0QK0ANmZjHK4"
      },
      "source": [
        "def cambio_elemento1(cadena):\n",
        "  for i in range(1,len(cadena)): #va a ir recorriendo todo el string a partir del segundo elemento\n",
        "    if cadena[i] == cadena[0]: #pregunta si uno de los caracteres es igual al primer caracter \n",
        "      nueva_cadena=cadena.replace(cadena[i],\"$\") #si es igual, lo va a intercambiar por $\n",
        "  print(nueva_cadena)  "
      ],
      "execution_count": null,
      "outputs": []
    },
    {
      "cell_type": "code",
      "metadata": {
        "colab": {
          "base_uri": "https://localhost:8080/"
        },
        "id": "MXkYIyo2pwn_",
        "outputId": "0330ebc8-68c1-44fa-9221-8ed6b25f2696"
      },
      "source": [
        "cambio_elemento1(\"restart\")"
      ],
      "execution_count": null,
      "outputs": [
        {
          "output_type": "stream",
          "text": [
            "$esta$t\n"
          ],
          "name": "stdout"
        }
      ]
    },
    {
      "cell_type": "markdown",
      "metadata": {
        "id": "LkccegP3moJs"
      },
      "source": [
        "5. Escriba un programa que tome un string y calcula el número de dígitos y letras que contiene.\n",
        "\n",
        "Ejemplo: Dado el string \"hola23\", debería devolver:\n",
        "\n",
        "letras = 4\n",
        "dígitos = 2"
      ]
    },
    {
      "cell_type": "code",
      "metadata": {
        "id": "GxVFbmpvgbaq"
      },
      "source": [
        "def nl_cadena(cadena):\n",
        "  #definimos las variables donde vamos a ir guardando el numero de numeros o digitos que tenga el string\n",
        "  num=0\n",
        "  letras=0\n",
        "  for i in range(len(cadena)): #va a ir recorriendo cada caracter del string\n",
        "    #ahora nos vamos a preguntar si se trata de un numero o una letra y vamos a ir contando:\n",
        "    if cadena[i].isdigit()==True:\n",
        "      num+=1\n",
        "    elif cadena[i].isalpha()==True:\n",
        "      letras+=1\n",
        "  print(\"letras = {}\".format(letras), \"dígitos = {}\".format(num))"
      ],
      "execution_count": null,
      "outputs": []
    },
    {
      "cell_type": "code",
      "metadata": {
        "id": "Xjv1meN1jHTd",
        "colab": {
          "base_uri": "https://localhost:8080/"
        },
        "outputId": "376b6fb6-256a-4690-db1f-abe5eb77da64"
      },
      "source": [
        "nl_cadena(\"hola23\")"
      ],
      "execution_count": null,
      "outputs": [
        {
          "output_type": "stream",
          "text": [
            "letras = 4 dígitos = 2\n"
          ],
          "name": "stdout"
        }
      ]
    },
    {
      "cell_type": "markdown",
      "metadata": {
        "id": "kizzfKchnPbp"
      },
      "source": [
        "6. Cree un programa para crear la tabla de multiplicar (del 1 al 10) de un número."
      ]
    },
    {
      "cell_type": "code",
      "metadata": {
        "id": "-djhqJGexBJ9"
      },
      "source": [
        "def tabla_mult(numero):\n",
        "  for i in range(1,11):\n",
        "    mult=i*numero\n",
        "    print(\"{} x {} = {}\".format(numero,i,mult))"
      ],
      "execution_count": null,
      "outputs": []
    },
    {
      "cell_type": "code",
      "metadata": {
        "colab": {
          "base_uri": "https://localhost:8080/"
        },
        "id": "K0QMyKLjxY11",
        "outputId": "1f65d264-fbf3-44c0-c7b8-1da1cf62907b"
      },
      "source": [
        "tabla_mult(4)"
      ],
      "execution_count": null,
      "outputs": [
        {
          "output_type": "stream",
          "text": [
            "4 x 1 = 4\n",
            "4 x 2 = 8\n",
            "4 x 3 = 12\n",
            "4 x 4 = 16\n",
            "4 x 5 = 20\n",
            "4 x 6 = 24\n",
            "4 x 7 = 28\n",
            "4 x 8 = 32\n",
            "4 x 9 = 36\n",
            "4 x 10 = 40\n"
          ],
          "name": "stdout"
        }
      ]
    },
    {
      "cell_type": "markdown",
      "metadata": {
        "id": "-KThPYyhng5u"
      },
      "source": [
        "7. Escriba un programa para verificar la validez de la contraseña ingresada por los usuarios. Con las siguientes condiciones:\n",
        "\n",
        "- Al menos 1 letra entre [a-z] y 1 letra entre [A-Z].\n",
        "\n",
        "- Al menos 1 número entre [0-9].\n",
        "\n",
        "- Al menos 1 carácter de [$ # @].\n",
        "\n",
        "- Longitud mínima 6 caracteres.\n",
        "\n",
        "- Longitud máxima de 16 caracteres."
      ]
    },
    {
      "cell_type": "code",
      "metadata": {
        "id": "6nTLlJurnrTl"
      },
      "source": [
        ""
      ],
      "execution_count": null,
      "outputs": []
    },
    {
      "cell_type": "markdown",
      "metadata": {
        "id": "8jGnbPNfnr3N"
      },
      "source": [
        "8. Escribe un programa para contar el número de ocurrencias de cada carácter en una cadena.\n",
        "\n",
        "Ejemplo: \"Mariana\"\n",
        "\n",
        "\"M\":1\n",
        "\n",
        "\"a\":3\n",
        "\n",
        "\"r:1\n",
        "\n",
        "\"i\":1\n",
        "\n",
        "\"n\":1\n"
      ]
    },
    {
      "cell_type": "code",
      "metadata": {
        "id": "0NTRBVcFoSRn"
      },
      "source": [
        "def contar_cadena(cadena):\n",
        "  c=[]\n",
        "  for i in range(len(cadena)):\n",
        "    c.append(cadena.count(cadena[i]))\n",
        "    print(\"{}:{}\".format(cadena[i],c[i]))\n"
      ],
      "execution_count": null,
      "outputs": []
    },
    {
      "cell_type": "code",
      "metadata": {
        "colab": {
          "base_uri": "https://localhost:8080/"
        },
        "id": "ybrs7HB5183C",
        "outputId": "d20544fa-c563-4848-a025-5dfceda833f2"
      },
      "source": [
        "contar_cadena(\"Mariana\")"
      ],
      "execution_count": null,
      "outputs": [
        {
          "output_type": "stream",
          "text": [
            "M:1\n",
            "a:3\n",
            "r:1\n",
            "i:1\n",
            "a:3\n",
            "n:1\n",
            "a:3\n"
          ],
          "name": "stdout"
        }
      ]
    },
    {
      "cell_type": "markdown",
      "metadata": {
        "id": "Az8yeaFkoSxT"
      },
      "source": [
        "9. Haz un función para que tome como parámetro un número n y una cadena no vacía, que devuelva una cadena con el n-ésimo carácter eliminado.\n"
      ]
    },
    {
      "cell_type": "code",
      "metadata": {
        "id": "M--OFuAzikqw"
      },
      "source": [
        ""
      ],
      "execution_count": null,
      "outputs": []
    }
  ]
}